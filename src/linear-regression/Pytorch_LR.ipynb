{
  "nbformat": 4,
  "nbformat_minor": 0,
  "metadata": {
    "colab": {
      "provenance": []
    },
    "kernelspec": {
      "name": "python3",
      "display_name": "Python 3"
    },
    "language_info": {
      "name": "python"
    }
  },
  "cells": [
    {
      "cell_type": "markdown",
      "metadata": {
        "id": "8d3138c6"
      },
      "source": [
        "# Task\n",
        "Implement linear regression with pytorch."
      ]
    },
    {
      "cell_type": "code",
      "metadata": {
        "id": "8facf508"
      },
      "source": [
        "import torch\n"
      ],
      "execution_count": 1,
      "outputs": []
    },
    {
      "cell_type": "code",
      "metadata": {
        "colab": {
          "base_uri": "https://localhost:8080/"
        },
        "id": "01710541",
        "outputId": "56d5c70a-7a79-4c60-c4d2-624ab5f2b74a"
      },
      "source": [
        "# Generate synthetic data\n",
        "# 1. Generate a sequence of numbers for the independent variable x using torch.linspace.\n",
        "x = torch.linspace(0, 10, 100).unsqueeze(1) # Add a dimension for model input\n",
        "\n",
        "# 2. Create the dependent variable y based on x using a linear equation and add some random noise.\n",
        "a = 2\n",
        "b = 1\n",
        "noise = torch.randn(100, 1) * 2 # Add some noise\n",
        "y = a * x + b + noise\n",
        "\n",
        "# 3. Ensure that x and y are PyTorch tensors.\n",
        "# x and y are already PyTorch tensors from the above steps.\n",
        "\n",
        "print(\"Shape of x:\", x.shape)\n",
        "print(\"Shape of y:\", y.shape)"
      ],
      "execution_count": 2,
      "outputs": [
        {
          "output_type": "stream",
          "name": "stdout",
          "text": [
            "Shape of x: torch.Size([100, 1])\n",
            "Shape of y: torch.Size([100, 1])\n"
          ]
        }
      ]
    },
    {
      "cell_type": "markdown",
      "metadata": {
        "id": "2d1cfe85"
      },
      "source": [
        "## Define the linear regression model\n",
        "\n",
        "\n",
        "Create a simple linear model using PyTorch's `nn.Module`.\n"
      ]
    },
    {
      "cell_type": "code",
      "metadata": {
        "colab": {
          "base_uri": "https://localhost:8080/"
        },
        "id": "b6779638",
        "outputId": "d39add66-6c42-4b2c-9757-6b496585002e"
      },
      "source": [
        "import torch.nn as nn\n",
        "\n",
        "class LinearRegressionModel(nn.Module):\n",
        "    def __init__(self, input_dim, output_dim):\n",
        "        super(LinearRegressionModel, self).__init__()\n",
        "        self.linear = nn.Linear(input_dim, output_dim)\n",
        "\n",
        "    def forward(self, x):\n",
        "        out = self.linear(x)\n",
        "        return out\n",
        "\n",
        "# Create the model\n",
        "model = LinearRegressionModel(input_dim=1, output_dim=1)\n",
        "\n",
        "print(model)"
      ],
      "execution_count": 3,
      "outputs": [
        {
          "output_type": "stream",
          "name": "stdout",
          "text": [
            "LinearRegressionModel(\n",
            "  (linear): Linear(in_features=1, out_features=1, bias=True)\n",
            ")\n"
          ]
        }
      ]
    },
    {
      "cell_type": "markdown",
      "metadata": {
        "id": "62cee84e"
      },
      "source": [
        "## Define the loss function and optimizer\n",
        "\n",
        "\n"
      ]
    },
    {
      "cell_type": "code",
      "metadata": {
        "id": "cc9a0958"
      },
      "source": [
        "# Choose an appropriate loss function (e.g., Mean Squared Error)\n",
        "from torch.nn import MSELoss\n",
        "\n",
        "# Instantiate an MSELoss object\n",
        "criterion = MSELoss()\n",
        "\n",
        "# Choose an optimizer (e.g., Stochastic Gradient Descent)\n",
        "from torch.optim import SGD\n",
        "\n",
        "# Instantiate an SGD optimizer\n",
        "optimizer = SGD(model.parameters(), lr=0.01)"
      ],
      "execution_count": 4,
      "outputs": []
    },
    {
      "cell_type": "code",
      "metadata": {
        "colab": {
          "base_uri": "https://localhost:8080/"
        },
        "id": "c5181e35",
        "outputId": "6a57b7f2-e0f1-4423-c839-78240f533f94"
      },
      "source": [
        "# Define the number of epochs for training\n",
        "num_epochs = 100\n",
        "\n",
        "# Start a training loop that iterates for the specified number of epochs\n",
        "for epoch in range(num_epochs):\n",
        "    # Inside the loop, perform a forward pass using the model with the input data x to get predictions\n",
        "    outputs = model(x)\n",
        "\n",
        "    # Calculate the loss between the model's predictions and the actual data y using the defined criterion\n",
        "    loss = criterion(outputs, y)\n",
        "\n",
        "    # Before the backward pass, clear the gradients of the optimizer\n",
        "    optimizer.zero_grad()\n",
        "\n",
        "    # Perform a backward pass to compute the gradients of the loss with respect to the model's parameters\n",
        "    loss.backward()\n",
        "\n",
        "    # Update the model's parameters using the optimizer's step() method\n",
        "    optimizer.step()\n",
        "\n",
        "    # (Optional) Print the loss periodically to monitor the training progress\n",
        "    if (epoch + 1) % 10 == 0:\n",
        "        print(f'Epoch [{epoch+1}/{num_epochs}], Loss: {loss.item():.4f}')\n",
        "\n",
        "print(\"Training finished.\")"
      ],
      "execution_count": 5,
      "outputs": [
        {
          "output_type": "stream",
          "name": "stdout",
          "text": [
            "Epoch [10/100], Loss: 4.2289\n",
            "Epoch [20/100], Loss: 4.2238\n",
            "Epoch [30/100], Loss: 4.2192\n",
            "Epoch [40/100], Loss: 4.2151\n",
            "Epoch [50/100], Loss: 4.2113\n",
            "Epoch [60/100], Loss: 4.2079\n",
            "Epoch [70/100], Loss: 4.2048\n",
            "Epoch [80/100], Loss: 4.2020\n",
            "Epoch [90/100], Loss: 4.1994\n",
            "Epoch [100/100], Loss: 4.1971\n",
            "Training finished.\n"
          ]
        }
      ]
    },
    {
      "cell_type": "code",
      "source": [],
      "metadata": {
        "id": "MrkGIV1j3SNL"
      },
      "execution_count": null,
      "outputs": []
    }
  ]
}